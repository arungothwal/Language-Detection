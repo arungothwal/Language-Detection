{
 "cells": [
  {
   "cell_type": "code",
   "execution_count": 1,
   "id": "3ec8488c",
   "metadata": {},
   "outputs": [],
   "source": [
    "import pandas as pd\n",
    "import numpy as np\n",
    "import re\n",
    "import nltk\n",
    "import string\n",
    "import codecs\n",
    "import seaborn as sns\n",
    "import matplotlib.pyplot as plt\n",
    "from sklearn import feature_extraction\n",
    "from sklearn import linear_model\n",
    "from sklearn import pipeline\n",
    "from sklearn.model_selection import train_test_split\n",
    "from sklearn import metrics"
   ]
  },
  {
   "cell_type": "code",
   "execution_count": 2,
   "id": "d66d64bf",
   "metadata": {},
   "outputs": [
    {
     "data": {
      "text/html": [
       "<div>\n",
       "<style scoped>\n",
       "    .dataframe tbody tr th:only-of-type {\n",
       "        vertical-align: middle;\n",
       "    }\n",
       "\n",
       "    .dataframe tbody tr th {\n",
       "        vertical-align: top;\n",
       "    }\n",
       "\n",
       "    .dataframe thead th {\n",
       "        text-align: right;\n",
       "    }\n",
       "</style>\n",
       "<table border=\"1\" class=\"dataframe\">\n",
       "  <thead>\n",
       "    <tr style=\"text-align: right;\">\n",
       "      <th></th>\n",
       "      <th>English</th>\n",
       "    </tr>\n",
       "  </thead>\n",
       "  <tbody>\n",
       "    <tr>\n",
       "      <th>0</th>\n",
       "      <td>Nature, in the broadest sense, is the natural...</td>\n",
       "    </tr>\n",
       "    <tr>\n",
       "      <th>1</th>\n",
       "      <td>\"Nature\" can refer to the phenomena of the phy...</td>\n",
       "    </tr>\n",
       "    <tr>\n",
       "      <th>2</th>\n",
       "      <td>The study of nature is a large, if not the onl...</td>\n",
       "    </tr>\n",
       "    <tr>\n",
       "      <th>3</th>\n",
       "      <td>Although humans are part of nature, human acti...</td>\n",
       "    </tr>\n",
       "    <tr>\n",
       "      <th>4</th>\n",
       "      <td>[1] The word nature is borrowed from the Old F...</td>\n",
       "    </tr>\n",
       "  </tbody>\n",
       "</table>\n",
       "</div>"
      ],
      "text/plain": [
       "                                             English\n",
       "0   Nature, in the broadest sense, is the natural...\n",
       "1  \"Nature\" can refer to the phenomena of the phy...\n",
       "2  The study of nature is a large, if not the onl...\n",
       "3  Although humans are part of nature, human acti...\n",
       "4  [1] The word nature is borrowed from the Old F..."
      ]
     },
     "execution_count": 2,
     "metadata": {},
     "output_type": "execute_result"
    }
   ],
   "source": [
    "eng_df = pd.read_csv(\"English_1000\")\n",
    "eng_df.head()"
   ]
  },
  {
   "cell_type": "code",
   "execution_count": 3,
   "id": "163eb06d",
   "metadata": {},
   "outputs": [
    {
     "data": {
      "text/html": [
       "<div>\n",
       "<style scoped>\n",
       "    .dataframe tbody tr th:only-of-type {\n",
       "        vertical-align: middle;\n",
       "    }\n",
       "\n",
       "    .dataframe tbody tr th {\n",
       "        vertical-align: top;\n",
       "    }\n",
       "\n",
       "    .dataframe thead th {\n",
       "        text-align: right;\n",
       "    }\n",
       "</style>\n",
       "<table border=\"1\" class=\"dataframe\">\n",
       "  <thead>\n",
       "    <tr style=\"text-align: right;\">\n",
       "      <th></th>\n",
       "      <th>French</th>\n",
       "    </tr>\n",
       "  </thead>\n",
       "  <tbody>\n",
       "    <tr>\n",
       "      <th>0</th>\n",
       "      <td>Si vous disposez d'ouvrages ou d'articles de r...</td>\n",
       "    </tr>\n",
       "    <tr>\n",
       "      <th>1</th>\n",
       "      <td>Comment ajouter mes sources ?</td>\n",
       "    </tr>\n",
       "    <tr>\n",
       "      <th>2</th>\n",
       "      <td>Cette page ou section est en train d'être trad...</td>\n",
       "    </tr>\n",
       "    <tr>\n",
       "      <th>3</th>\n",
       "      <td>Vous pouvez aider au développement de Wikipédi...</td>\n",
       "    </tr>\n",
       "    <tr>\n",
       "      <th>4</th>\n",
       "      <td>Le mot nature est un terme polysémique (c’est-...</td>\n",
       "    </tr>\n",
       "  </tbody>\n",
       "</table>\n",
       "</div>"
      ],
      "text/plain": [
       "                                              French\n",
       "0  Si vous disposez d'ouvrages ou d'articles de r...\n",
       "1                      Comment ajouter mes sources ?\n",
       "2  Cette page ou section est en train d'être trad...\n",
       "3  Vous pouvez aider au développement de Wikipédi...\n",
       "4  Le mot nature est un terme polysémique (c’est-..."
      ]
     },
     "execution_count": 3,
     "metadata": {},
     "output_type": "execute_result"
    }
   ],
   "source": [
    "french_df = pd.read_csv(\"french_1000\")\n",
    "french_df.head()"
   ]
  },
  {
   "cell_type": "code",
   "execution_count": 4,
   "id": "fd58682e",
   "metadata": {},
   "outputs": [
    {
     "data": {
      "text/html": [
       "<div>\n",
       "<style scoped>\n",
       "    .dataframe tbody tr th:only-of-type {\n",
       "        vertical-align: middle;\n",
       "    }\n",
       "\n",
       "    .dataframe tbody tr th {\n",
       "        vertical-align: top;\n",
       "    }\n",
       "\n",
       "    .dataframe thead th {\n",
       "        text-align: right;\n",
       "    }\n",
       "</style>\n",
       "<table border=\"1\" class=\"dataframe\">\n",
       "  <thead>\n",
       "    <tr style=\"text-align: right;\">\n",
       "      <th></th>\n",
       "      <th>Russian</th>\n",
       "    </tr>\n",
       "  </thead>\n",
       "  <tbody>\n",
       "    <tr>\n",
       "      <th>0</th>\n",
       "      <td>занимает пятое место в диптихе автокефальных п...</td>\n",
       "    </tr>\n",
       "    <tr>\n",
       "      <th>1</th>\n",
       "      <td>много сделал для понимания деятельности м в ло...</td>\n",
       "    </tr>\n",
       "    <tr>\n",
       "      <th>2</th>\n",
       "      <td>расписывал храмы в костромской нижегородской и...</td>\n",
       "    </tr>\n",
       "    <tr>\n",
       "      <th>3</th>\n",
       "      <td>производство мл- велось только на заводе №  в ...</td>\n",
       "    </tr>\n",
       "    <tr>\n",
       "      <th>4</th>\n",
       "      <td>московская патриархия — учреждение русской пра...</td>\n",
       "    </tr>\n",
       "  </tbody>\n",
       "</table>\n",
       "</div>"
      ],
      "text/plain": [
       "                                             Russian\n",
       "0  занимает пятое место в диптихе автокефальных п...\n",
       "1  много сделал для понимания деятельности м в ло...\n",
       "2  расписывал храмы в костромской нижегородской и...\n",
       "3  производство мл- велось только на заводе №  в ...\n",
       "4  московская патриархия — учреждение русской пра..."
      ]
     },
     "execution_count": 4,
     "metadata": {},
     "output_type": "execute_result"
    }
   ],
   "source": [
    "russian_df = pd.read_csv(\"Russian_1000\")\n",
    "russian_df.head()"
   ]
  },
  {
   "cell_type": "code",
   "execution_count": 5,
   "id": "bdbd5fed",
   "metadata": {},
   "outputs": [
    {
     "data": {
      "text/html": [
       "<div>\n",
       "<style scoped>\n",
       "    .dataframe tbody tr th:only-of-type {\n",
       "        vertical-align: middle;\n",
       "    }\n",
       "\n",
       "    .dataframe tbody tr th {\n",
       "        vertical-align: top;\n",
       "    }\n",
       "\n",
       "    .dataframe thead th {\n",
       "        text-align: right;\n",
       "    }\n",
       "</style>\n",
       "<table border=\"1\" class=\"dataframe\">\n",
       "  <thead>\n",
       "    <tr style=\"text-align: right;\">\n",
       "      <th></th>\n",
       "      <th>Chinese</th>\n",
       "    </tr>\n",
       "  </thead>\n",
       "  <tbody>\n",
       "    <tr>\n",
       "      <th>0</th>\n",
       "      <td>胡赛尼本人和小说的主人公阿米尔一样，都是出生在阿富汗首都喀布尔，少年时代便离开了这个国家。胡...</td>\n",
       "    </tr>\n",
       "    <tr>\n",
       "      <th>1</th>\n",
       "      <td>年月日，參與了「snh第三屆年度金曲大賞best 」。月日，出演由优酷视频，盟将威影视，嗨乐...</td>\n",
       "    </tr>\n",
       "    <tr>\n",
       "      <th>2</th>\n",
       "      <td>在他们出发之前，罗伯特·菲茨罗伊送给了达尔文一卷查尔斯·赖尔所著《地质学原理》（在南美他得到...</td>\n",
       "    </tr>\n",
       "    <tr>\n",
       "      <th>3</th>\n",
       "      <td>系列的第一款作品《薩爾達傳說》（ゼルダの伝説）在年月日於日本發行，之後在年內於美國和歐洲地區...</td>\n",
       "    </tr>\n",
       "    <tr>\n",
       "      <th>4</th>\n",
       "      <td>历史上的柔远驿是为了给琉球贡使及随员提供食宿之所，同时它也成为中琉间商业和文化交流的枢纽。琉...</td>\n",
       "    </tr>\n",
       "  </tbody>\n",
       "</table>\n",
       "</div>"
      ],
      "text/plain": [
       "                                             Chinese\n",
       "0  胡赛尼本人和小说的主人公阿米尔一样，都是出生在阿富汗首都喀布尔，少年时代便离开了这个国家。胡...\n",
       "1  年月日，參與了「snh第三屆年度金曲大賞best 」。月日，出演由优酷视频，盟将威影视，嗨乐...\n",
       "2  在他们出发之前，罗伯特·菲茨罗伊送给了达尔文一卷查尔斯·赖尔所著《地质学原理》（在南美他得到...\n",
       "3  系列的第一款作品《薩爾達傳說》（ゼルダの伝説）在年月日於日本發行，之後在年內於美國和歐洲地區...\n",
       "4  历史上的柔远驿是为了给琉球贡使及随员提供食宿之所，同时它也成为中琉间商业和文化交流的枢纽。琉..."
      ]
     },
     "execution_count": 5,
     "metadata": {},
     "output_type": "execute_result"
    }
   ],
   "source": [
    "chinese_df = pd.read_csv(\"Chinese_1000\")\n",
    "chinese_df.head()"
   ]
  },
  {
   "cell_type": "code",
   "execution_count": 6,
   "id": "10eba8ab",
   "metadata": {},
   "outputs": [
    {
     "data": {
      "text/html": [
       "<div>\n",
       "<style scoped>\n",
       "    .dataframe tbody tr th:only-of-type {\n",
       "        vertical-align: middle;\n",
       "    }\n",
       "\n",
       "    .dataframe tbody tr th {\n",
       "        vertical-align: top;\n",
       "    }\n",
       "\n",
       "    .dataframe thead th {\n",
       "        text-align: right;\n",
       "    }\n",
       "</style>\n",
       "<table border=\"1\" class=\"dataframe\">\n",
       "  <thead>\n",
       "    <tr style=\"text-align: right;\">\n",
       "      <th></th>\n",
       "      <th>Spanish</th>\n",
       "    </tr>\n",
       "  </thead>\n",
       "  <tbody>\n",
       "    <tr>\n",
       "      <th>0</th>\n",
       "      <td>Nature es una de las más prestigiosas revistas...</td>\n",
       "    </tr>\n",
       "    <tr>\n",
       "      <th>1</th>\n",
       "      <td>Su primer número fue publicado el 4 de noviemb...</td>\n",
       "    </tr>\n",
       "    <tr>\n",
       "      <th>2</th>\n",
       "      <td>[2]​ Con una periodicidad semanal, la revista ...</td>\n",
       "    </tr>\n",
       "    <tr>\n",
       "      <th>3</th>\n",
       "      <td>Nature tiene oficinas en Londres, Nueva York, ...</td>\n",
       "    </tr>\n",
       "    <tr>\n",
       "      <th>4</th>\n",
       "      <td>La editorial publica también varias revistas e...</td>\n",
       "    </tr>\n",
       "  </tbody>\n",
       "</table>\n",
       "</div>"
      ],
      "text/plain": [
       "                                             Spanish\n",
       "0  Nature es una de las más prestigiosas revistas...\n",
       "1  Su primer número fue publicado el 4 de noviemb...\n",
       "2  [2]​ Con una periodicidad semanal, la revista ...\n",
       "3  Nature tiene oficinas en Londres, Nueva York, ...\n",
       "4  La editorial publica también varias revistas e..."
      ]
     },
     "execution_count": 6,
     "metadata": {},
     "output_type": "execute_result"
    }
   ],
   "source": [
    "spanish_df = pd.read_csv(\"Spanish_1000\")\n",
    "spanish_df.head()"
   ]
  },
  {
   "cell_type": "code",
   "execution_count": 7,
   "id": "a82acc47",
   "metadata": {},
   "outputs": [
    {
     "data": {
      "text/html": [
       "<div>\n",
       "<style scoped>\n",
       "    .dataframe tbody tr th:only-of-type {\n",
       "        vertical-align: middle;\n",
       "    }\n",
       "\n",
       "    .dataframe tbody tr th {\n",
       "        vertical-align: top;\n",
       "    }\n",
       "\n",
       "    .dataframe thead th {\n",
       "        text-align: right;\n",
       "    }\n",
       "</style>\n",
       "<table border=\"1\" class=\"dataframe\">\n",
       "  <thead>\n",
       "    <tr style=\"text-align: right;\">\n",
       "      <th></th>\n",
       "      <th>Hindi</th>\n",
       "    </tr>\n",
       "  </thead>\n",
       "  <tbody>\n",
       "    <tr>\n",
       "      <th>0</th>\n",
       "      <td>महाराष्ट्र  मई  को भारत का राज्य बनाया गया था।...</td>\n",
       "    </tr>\n",
       "    <tr>\n",
       "      <th>1</th>\n",
       "      <td>मुन्दुम नेरियथुम साडी जो केवल एक पारंपरिक पोशा...</td>\n",
       "    </tr>\n",
       "    <tr>\n",
       "      <th>2</th>\n",
       "      <td>साधु सुन्दर सिंह की मां का देहांत तब हुआ जब वे...</td>\n",
       "    </tr>\n",
       "    <tr>\n",
       "      <th>3</th>\n",
       "      <td>में बिहार के तत्कालीन मुख्यमंत्री लालू प्रसाद...</td>\n",
       "    </tr>\n",
       "    <tr>\n",
       "      <th>4</th>\n",
       "      <td>आर्किमिडिज़ यूनानी ἀρχιμήδης लगभग  –  ईपू प्रा...</td>\n",
       "    </tr>\n",
       "    <tr>\n",
       "      <th>...</th>\n",
       "      <td>...</td>\n",
       "    </tr>\n",
       "    <tr>\n",
       "      <th>995</th>\n",
       "      <td>पराग बैंक में पराग कण को संग्रह किया जाता है। ...</td>\n",
       "    </tr>\n",
       "    <tr>\n",
       "      <th>996</th>\n",
       "      <td>अश्वशाव या इक्वूलियस एक छोटा-सा तारामंडल है जो...</td>\n",
       "    </tr>\n",
       "    <tr>\n",
       "      <th>997</th>\n",
       "      <td>केन्द्रीय विद्यालयों के प्रमुख चार मिशन इस प्र...</td>\n",
       "    </tr>\n",
       "    <tr>\n",
       "      <th>998</th>\n",
       "      <td>मास्तीजी अपने  जन्मदिवस पर स्वर्गवासित हो गए। ...</td>\n",
       "    </tr>\n",
       "    <tr>\n",
       "      <th>999</th>\n",
       "      <td>हिंदी और उर्दू के एक मिले जुले रूप को हिंदुस्त...</td>\n",
       "    </tr>\n",
       "  </tbody>\n",
       "</table>\n",
       "<p>1000 rows × 1 columns</p>\n",
       "</div>"
      ],
      "text/plain": [
       "                                                 Hindi\n",
       "0    महाराष्ट्र  मई  को भारत का राज्य बनाया गया था।...\n",
       "1    मुन्दुम नेरियथुम साडी जो केवल एक पारंपरिक पोशा...\n",
       "2    साधु सुन्दर सिंह की मां का देहांत तब हुआ जब वे...\n",
       "3     में बिहार के तत्कालीन मुख्यमंत्री लालू प्रसाद...\n",
       "4    आर्किमिडिज़ यूनानी ἀρχιμήδης लगभग  –  ईपू प्रा...\n",
       "..                                                 ...\n",
       "995  पराग बैंक में पराग कण को संग्रह किया जाता है। ...\n",
       "996  अश्वशाव या इक्वूलियस एक छोटा-सा तारामंडल है जो...\n",
       "997  केन्द्रीय विद्यालयों के प्रमुख चार मिशन इस प्र...\n",
       "998  मास्तीजी अपने  जन्मदिवस पर स्वर्गवासित हो गए। ...\n",
       "999  हिंदी और उर्दू के एक मिले जुले रूप को हिंदुस्त...\n",
       "\n",
       "[1000 rows x 1 columns]"
      ]
     },
     "execution_count": 7,
     "metadata": {},
     "output_type": "execute_result"
    }
   ],
   "source": [
    "hindi_df = pd.read_csv(\"Hindi_1000\")\n",
    "hindi_df"
   ]
  },
  {
   "cell_type": "code",
   "execution_count": 8,
   "id": "2191c708",
   "metadata": {},
   "outputs": [
    {
     "data": {
      "text/html": [
       "<div>\n",
       "<style scoped>\n",
       "    .dataframe tbody tr th:only-of-type {\n",
       "        vertical-align: middle;\n",
       "    }\n",
       "\n",
       "    .dataframe tbody tr th {\n",
       "        vertical-align: top;\n",
       "    }\n",
       "\n",
       "    .dataframe thead th {\n",
       "        text-align: right;\n",
       "    }\n",
       "</style>\n",
       "<table border=\"1\" class=\"dataframe\">\n",
       "  <thead>\n",
       "    <tr style=\"text-align: right;\">\n",
       "      <th></th>\n",
       "      <th>Tamil</th>\n",
       "    </tr>\n",
       "  </thead>\n",
       "  <tbody>\n",
       "    <tr>\n",
       "      <th>0</th>\n",
       "      <td>விசாகப்பட்டினம் தமிழ்ச்சங்கத்தை இந்துப் பத்திர...</td>\n",
       "    </tr>\n",
       "    <tr>\n",
       "      <th>1</th>\n",
       "      <td>ஆங்கில எழுத்துக்களை மட்டும் அல்லாமல் பன்மொழி எ...</td>\n",
       "    </tr>\n",
       "    <tr>\n",
       "      <th>2</th>\n",
       "      <td>இரண்டு மீட்டர்களும் ஒரு அரை மீட்டரும் இணைந்த ந...</td>\n",
       "    </tr>\n",
       "    <tr>\n",
       "      <th>3</th>\n",
       "      <td>இந்த இரண்டு வகையிலும் வரையறுக்கப்பட்ட பொறுப்பு...</td>\n",
       "    </tr>\n",
       "    <tr>\n",
       "      <th>4</th>\n",
       "      <td>பெருந்தோட்டம் என்பது தொலைதூரச் சந்தைகளுக்காகப்...</td>\n",
       "    </tr>\n",
       "    <tr>\n",
       "      <th>...</th>\n",
       "      <td>...</td>\n",
       "    </tr>\n",
       "    <tr>\n",
       "      <th>995</th>\n",
       "      <td>சேக் சயத் மசூதி ஐக்கிய அரபு அமீரகத்தின் தலைநகர...</td>\n",
       "    </tr>\n",
       "    <tr>\n",
       "      <th>996</th>\n",
       "      <td>அடியார்களுக்கு அன்னமிடுவதை வழக்கமாக கொண்டிருந்...</td>\n",
       "    </tr>\n",
       "    <tr>\n",
       "      <th>997</th>\n",
       "      <td>களர் சம்பா kalar samba என்று அழைக்கப்படும் இந்...</td>\n",
       "    </tr>\n",
       "    <tr>\n",
       "      <th>998</th>\n",
       "      <td>யூலரின் முறை முதல் வரிசையாகும் உறுதியான தன்மை ...</td>\n",
       "    </tr>\n",
       "    <tr>\n",
       "      <th>999</th>\n",
       "      <td>அனாதரவற்ற சிறுவர்களை அரவணைக்கும் முகமாக சிறுவர...</td>\n",
       "    </tr>\n",
       "  </tbody>\n",
       "</table>\n",
       "<p>1000 rows × 1 columns</p>\n",
       "</div>"
      ],
      "text/plain": [
       "                                                 Tamil\n",
       "0    விசாகப்பட்டினம் தமிழ்ச்சங்கத்தை இந்துப் பத்திர...\n",
       "1    ஆங்கில எழுத்துக்களை மட்டும் அல்லாமல் பன்மொழி எ...\n",
       "2    இரண்டு மீட்டர்களும் ஒரு அரை மீட்டரும் இணைந்த ந...\n",
       "3    இந்த இரண்டு வகையிலும் வரையறுக்கப்பட்ட பொறுப்பு...\n",
       "4    பெருந்தோட்டம் என்பது தொலைதூரச் சந்தைகளுக்காகப்...\n",
       "..                                                 ...\n",
       "995  சேக் சயத் மசூதி ஐக்கிய அரபு அமீரகத்தின் தலைநகர...\n",
       "996  அடியார்களுக்கு அன்னமிடுவதை வழக்கமாக கொண்டிருந்...\n",
       "997  களர் சம்பா kalar samba என்று அழைக்கப்படும் இந்...\n",
       "998  யூலரின் முறை முதல் வரிசையாகும் உறுதியான தன்மை ...\n",
       "999  அனாதரவற்ற சிறுவர்களை அரவணைக்கும் முகமாக சிறுவர...\n",
       "\n",
       "[1000 rows x 1 columns]"
      ]
     },
     "execution_count": 8,
     "metadata": {},
     "output_type": "execute_result"
    }
   ],
   "source": [
    "tamil_df = pd.read_csv(\"Tamil_1000\")\n",
    "tamil_df"
   ]
  },
  {
   "cell_type": "code",
   "execution_count": 9,
   "id": "9b5ca153",
   "metadata": {},
   "outputs": [
    {
     "data": {
      "text/html": [
       "<div>\n",
       "<style scoped>\n",
       "    .dataframe tbody tr th:only-of-type {\n",
       "        vertical-align: middle;\n",
       "    }\n",
       "\n",
       "    .dataframe tbody tr th {\n",
       "        vertical-align: top;\n",
       "    }\n",
       "\n",
       "    .dataframe thead th {\n",
       "        text-align: right;\n",
       "    }\n",
       "</style>\n",
       "<table border=\"1\" class=\"dataframe\">\n",
       "  <thead>\n",
       "    <tr style=\"text-align: right;\">\n",
       "      <th></th>\n",
       "      <th>Indonesian</th>\n",
       "    </tr>\n",
       "  </thead>\n",
       "  <tbody>\n",
       "    <tr>\n",
       "      <th>0</th>\n",
       "      <td>kemunculan pertamanya adalah ketika mencium ka...</td>\n",
       "    </tr>\n",
       "    <tr>\n",
       "      <th>1</th>\n",
       "      <td>walter kaudern dalam bukunya menyatakan wawo l...</td>\n",
       "    </tr>\n",
       "    <tr>\n",
       "      <th>2</th>\n",
       "      <td>bintang ini memiliki nama tradisional sulafat ...</td>\n",
       "    </tr>\n",
       "    <tr>\n",
       "      <th>3</th>\n",
       "      <td>dalam bahasa inggris istilah easter paskah men...</td>\n",
       "    </tr>\n",
       "    <tr>\n",
       "      <th>4</th>\n",
       "      <td>ia menikahi giacomina wafat  februari  putri u...</td>\n",
       "    </tr>\n",
       "    <tr>\n",
       "      <th>...</th>\n",
       "      <td>...</td>\n",
       "    </tr>\n",
       "    <tr>\n",
       "      <th>995</th>\n",
       "      <td>walaupun pada mulanya berhasil menurunkan ting...</td>\n",
       "    </tr>\n",
       "    <tr>\n",
       "      <th>996</th>\n",
       "      <td>namun dalam usia  hari akhirnya meninggal duni...</td>\n",
       "    </tr>\n",
       "    <tr>\n",
       "      <th>997</th>\n",
       "      <td>dewan wali terlibat dalam proses legislasi den...</td>\n",
       "    </tr>\n",
       "    <tr>\n",
       "      <th>998</th>\n",
       "      <td>ordo ekuestrian makam kudus yerusalem bahasa l...</td>\n",
       "    </tr>\n",
       "    <tr>\n",
       "      <th>999</th>\n",
       "      <td>felidae adalah familia mamalia yang berevolusi...</td>\n",
       "    </tr>\n",
       "  </tbody>\n",
       "</table>\n",
       "<p>1000 rows × 1 columns</p>\n",
       "</div>"
      ],
      "text/plain": [
       "                                            Indonesian\n",
       "0    kemunculan pertamanya adalah ketika mencium ka...\n",
       "1    walter kaudern dalam bukunya menyatakan wawo l...\n",
       "2    bintang ini memiliki nama tradisional sulafat ...\n",
       "3    dalam bahasa inggris istilah easter paskah men...\n",
       "4    ia menikahi giacomina wafat  februari  putri u...\n",
       "..                                                 ...\n",
       "995  walaupun pada mulanya berhasil menurunkan ting...\n",
       "996  namun dalam usia  hari akhirnya meninggal duni...\n",
       "997  dewan wali terlibat dalam proses legislasi den...\n",
       "998  ordo ekuestrian makam kudus yerusalem bahasa l...\n",
       "999  felidae adalah familia mamalia yang berevolusi...\n",
       "\n",
       "[1000 rows x 1 columns]"
      ]
     },
     "execution_count": 9,
     "metadata": {},
     "output_type": "execute_result"
    }
   ],
   "source": [
    "indonesian_df = pd.read_csv(\"Indonesian_1000\")\n",
    "indonesian_df"
   ]
  },
  {
   "cell_type": "code",
   "execution_count": 10,
   "id": "042d3dab",
   "metadata": {},
   "outputs": [
    {
     "data": {
      "text/html": [
       "<div>\n",
       "<style scoped>\n",
       "    .dataframe tbody tr th:only-of-type {\n",
       "        vertical-align: middle;\n",
       "    }\n",
       "\n",
       "    .dataframe tbody tr th {\n",
       "        vertical-align: top;\n",
       "    }\n",
       "\n",
       "    .dataframe thead th {\n",
       "        text-align: right;\n",
       "    }\n",
       "</style>\n",
       "<table border=\"1\" class=\"dataframe\">\n",
       "  <thead>\n",
       "    <tr style=\"text-align: right;\">\n",
       "      <th></th>\n",
       "      <th>Romanian</th>\n",
       "    </tr>\n",
       "  </thead>\n",
       "  <tbody>\n",
       "    <tr>\n",
       "      <th>0</th>\n",
       "      <td>de-a lungul vieții watson a fost interesat de ...</td>\n",
       "    </tr>\n",
       "    <tr>\n",
       "      <th>1</th>\n",
       "      <td>ianuarie abdullah bin abdulaziz al-saud n abd...</td>\n",
       "    </tr>\n",
       "    <tr>\n",
       "      <th>2</th>\n",
       "      <td>iunie universitatea din lisabona a anunțat că...</td>\n",
       "    </tr>\n",
       "    <tr>\n",
       "      <th>3</th>\n",
       "      <td>în  albania a devenit regat sub conducerea reg...</td>\n",
       "    </tr>\n",
       "    <tr>\n",
       "      <th>4</th>\n",
       "      <td>un grup de cercetași din rondul de noapte porn...</td>\n",
       "    </tr>\n",
       "    <tr>\n",
       "      <th>...</th>\n",
       "      <td>...</td>\n",
       "    </tr>\n",
       "    <tr>\n",
       "      <th>995</th>\n",
       "      <td>decembrie peste  de persoane din statul filip...</td>\n",
       "    </tr>\n",
       "    <tr>\n",
       "      <th>996</th>\n",
       "      <td>după război în  watson a fost numit președinte...</td>\n",
       "    </tr>\n",
       "    <tr>\n",
       "      <th>997</th>\n",
       "      <td>constantin petala n  aprilie  - d ? a fost unu...</td>\n",
       "    </tr>\n",
       "    <tr>\n",
       "      <th>998</th>\n",
       "      <td>conform recensământului efectuat în  populația...</td>\n",
       "    </tr>\n",
       "    <tr>\n",
       "      <th>999</th>\n",
       "      <td>aprilie sonda spațială messenger a nasa și-a ...</td>\n",
       "    </tr>\n",
       "  </tbody>\n",
       "</table>\n",
       "<p>1000 rows × 1 columns</p>\n",
       "</div>"
      ],
      "text/plain": [
       "                                              Romanian\n",
       "0    de-a lungul vieții watson a fost interesat de ...\n",
       "1     ianuarie abdullah bin abdulaziz al-saud n abd...\n",
       "2     iunie universitatea din lisabona a anunțat că...\n",
       "3    în  albania a devenit regat sub conducerea reg...\n",
       "4    un grup de cercetași din rondul de noapte porn...\n",
       "..                                                 ...\n",
       "995   decembrie peste  de persoane din statul filip...\n",
       "996  după război în  watson a fost numit președinte...\n",
       "997  constantin petala n  aprilie  - d ? a fost unu...\n",
       "998  conform recensământului efectuat în  populația...\n",
       "999   aprilie sonda spațială messenger a nasa și-a ...\n",
       "\n",
       "[1000 rows x 1 columns]"
      ]
     },
     "execution_count": 10,
     "metadata": {},
     "output_type": "execute_result"
    }
   ],
   "source": [
    "romanian_df = pd.read_csv(\"romanian_1000\")\n",
    "romanian_df"
   ]
  },
  {
   "cell_type": "code",
   "execution_count": 11,
   "id": "60612356",
   "metadata": {},
   "outputs": [],
   "source": [
    "eng_data = []\n",
    "eng_lang = []\n",
    "for i in range(0, len(eng_df)):\n",
    "    review = re.sub('[^a-zA-Z]', ' ', eng_df['English'][i])\n",
    "    review = review.lower()\n",
    "    review = review.split()\n",
    "    review = ' '.join(review)\n",
    "    eng_data.append(review)\n",
    "    eng_lang.append('English')"
   ]
  },
  {
   "cell_type": "code",
   "execution_count": 12,
   "id": "2358beaa",
   "metadata": {},
   "outputs": [],
   "source": [
    "regular_punct = list(string.punctuation)\n"
   ]
  },
  {
   "cell_type": "code",
   "execution_count": 13,
   "id": "83a1962c",
   "metadata": {},
   "outputs": [
    {
     "name": "stderr",
     "output_type": "stream",
     "text": [
      "C:\\Users\\avisi\\AppData\\Local\\Temp/ipykernel_7920/1039438560.py:8: FutureWarning: Possible nested set at position 1\n",
      "  line = re.sub(r\"[[]]\",\"\",line)\n"
     ]
    }
   ],
   "source": [
    "russian_data = []\n",
    "russian_lang = []\n",
    "for i,line in russian_df.iterrows():\n",
    "    line = line[\"Russian\"]\n",
    "    if len(line) != 0:\n",
    "        line  = line.lower()\n",
    "        line = re.sub(r\"\\d+\",\"\",line)   \n",
    "        line = re.sub(r\"[[]]\",\"\",line)\n",
    "        line = re.sub(r'[-«»!@#$—(),n\"%^*?:;~`]', ' ', line)\n",
    "        russian_data.append(line)\n",
    "        russian_lang.append('Russian')\n"
   ]
  },
  {
   "cell_type": "code",
   "execution_count": 14,
   "id": "cbeafe00",
   "metadata": {},
   "outputs": [],
   "source": [
    "spanish_data = []\n",
    "spanish_lang = []\n",
    "for i in range(0, len(spanish_df)):\n",
    "    review = re.sub('[^a-zA-Z]', ' ', spanish_df['Spanish'][i])\n",
    "    review = review.lower()\n",
    "    review = review.split()\n",
    "    review = ' '.join(review)\n",
    "    spanish_data.append(review)\n",
    "    spanish_lang.append(\"Spanish\")"
   ]
  },
  {
   "cell_type": "code",
   "execution_count": 15,
   "id": "e21fcfba",
   "metadata": {},
   "outputs": [],
   "source": [
    "french_lang = []\n",
    "french_data = []\n",
    "for i in range(0, len(french_df)):\n",
    "    review = re.sub('[^a-zA-Z]', ' ', french_df['French'][i])\n",
    "    review = review.lower()\n",
    "    review = review.split()\n",
    "    review = ' '.join(review)\n",
    "    french_data.append(review)\n",
    "    french_lang.append(\"French\")"
   ]
  },
  {
   "cell_type": "code",
   "execution_count": 16,
   "id": "59f9a9ae",
   "metadata": {},
   "outputs": [],
   "source": [
    "chinese_lang = []\n",
    "chinese_data = []\n",
    "for i in range(0, len(chinese_df)):\n",
    "    review = re.sub('[a-zA-Z0-9]', ' ', chinese_df['Chinese'][i])\n",
    "    review = review.lower()\n",
    "    review = review.split()\n",
    "    review = [words for words in review if not words in regular_punct]\n",
    "    review = ' '.join(review)\n",
    "    chinese_data.append(review)\n",
    "    chinese_lang.append(\"Chinese\")"
   ]
  },
  {
   "cell_type": "code",
   "execution_count": 17,
   "id": "83705df2",
   "metadata": {},
   "outputs": [],
   "source": [
    "import string\n",
    "hindi_lang = []\n",
    "hindi_data = []\n",
    "for i in range(0, len(hindi_df)):\n",
    "    line = re.sub(r'[\\। -«»!@#$—(),n\"%^*?:;~`]', ' ', hindi_df['Hindi'][i])\n",
    "    line  = line.lower()\n",
    "    line = line.replace(\"\\u200d\", \"\") # removing unicode\n",
    "    line = re.sub('[a-zA-Z0-9]',\"\",line)   \n",
    "    line = re.sub(r\"[[]]\",\"\",line)\n",
    "    line = line.split()\n",
    "    line = ' '.join(line)\n",
    "    hindi_data.append(line)\n",
    "    hindi_lang.append(\"Hindi\")"
   ]
  },
  {
   "cell_type": "code",
   "execution_count": 18,
   "id": "c8866356",
   "metadata": {},
   "outputs": [],
   "source": [
    "tamil_lang = []\n",
    "tamil_data = []\n",
    "for i in range(0, len(tamil_df)):\n",
    "    review = re.sub('[a-zA-Z0-9\\। -«»!@#$—(),n\"%^*?:;~`]', ' ', tamil_df['Tamil'][i])\n",
    "    review = review.lower()\n",
    "    review = review.replace(\"\\u200d\", \"\") # removing unicode\n",
    "    review = review.split()\n",
    "    review = ' '.join(review)\n",
    "    tamil_data.append(review)\n",
    "    tamil_lang.append(\"Tamil\")"
   ]
  },
  {
   "cell_type": "code",
   "execution_count": 19,
   "id": "1e586de1",
   "metadata": {},
   "outputs": [],
   "source": [
    "indonesian_lang = []\n",
    "indonesian_data = []\n",
    "for i in range(0, len(indonesian_df)):\n",
    "    review = re.sub('[^a-zA-Z]', ' ', indonesian_df['Indonesian'][i])\n",
    "    review = review.lower()\n",
    "    review = review.split()\n",
    "    review = ' '.join(review)\n",
    "    indonesian_data.append(review)\n",
    "    indonesian_lang.append(\"Indonesian\")"
   ]
  },
  {
   "cell_type": "code",
   "execution_count": 20,
   "id": "79c61d2f",
   "metadata": {},
   "outputs": [
    {
     "data": {
      "text/html": [
       "<div>\n",
       "<style scoped>\n",
       "    .dataframe tbody tr th:only-of-type {\n",
       "        vertical-align: middle;\n",
       "    }\n",
       "\n",
       "    .dataframe tbody tr th {\n",
       "        vertical-align: top;\n",
       "    }\n",
       "\n",
       "    .dataframe thead th {\n",
       "        text-align: right;\n",
       "    }\n",
       "</style>\n",
       "<table border=\"1\" class=\"dataframe\">\n",
       "  <thead>\n",
       "    <tr style=\"text-align: right;\">\n",
       "      <th></th>\n",
       "      <th>Text</th>\n",
       "      <th>Language</th>\n",
       "    </tr>\n",
       "  </thead>\n",
       "  <tbody>\n",
       "    <tr>\n",
       "      <th>0</th>\n",
       "      <td>nature in the broadest sense is the natural ph...</td>\n",
       "      <td>English</td>\n",
       "    </tr>\n",
       "    <tr>\n",
       "      <th>1</th>\n",
       "      <td>nature can refer to the phenomena of the physi...</td>\n",
       "      <td>English</td>\n",
       "    </tr>\n",
       "    <tr>\n",
       "      <th>2</th>\n",
       "      <td>the study of nature is a large if not the only...</td>\n",
       "      <td>English</td>\n",
       "    </tr>\n",
       "    <tr>\n",
       "      <th>3</th>\n",
       "      <td>although humans are part of nature human activ...</td>\n",
       "      <td>English</td>\n",
       "    </tr>\n",
       "    <tr>\n",
       "      <th>4</th>\n",
       "      <td>the word nature is borrowed from the old frenc...</td>\n",
       "      <td>English</td>\n",
       "    </tr>\n",
       "  </tbody>\n",
       "</table>\n",
       "</div>"
      ],
      "text/plain": [
       "                                                Text Language\n",
       "0  nature in the broadest sense is the natural ph...  English\n",
       "1  nature can refer to the phenomena of the physi...  English\n",
       "2  the study of nature is a large if not the only...  English\n",
       "3  although humans are part of nature human activ...  English\n",
       "4  the word nature is borrowed from the old frenc...  English"
      ]
     },
     "execution_count": 20,
     "metadata": {},
     "output_type": "execute_result"
    }
   ],
   "source": [
    "df =pd.DataFrame({\"Text\": eng_data + french_data + spanish_data + chinese_data + russian_data + hindi_data + tamil_data \n",
    "                  + indonesian_data ,\n",
    "                  \"Language\": eng_lang + french_lang + spanish_lang + chinese_lang + russian_lang + hindi_lang + tamil_lang\n",
    "                  + indonesian_lang })\n",
    "df.head()"
   ]
  },
  {
   "cell_type": "code",
   "execution_count": 21,
   "id": "2ca36c7b",
   "metadata": {},
   "outputs": [
    {
     "data": {
      "text/html": [
       "<div>\n",
       "<style scoped>\n",
       "    .dataframe tbody tr th:only-of-type {\n",
       "        vertical-align: middle;\n",
       "    }\n",
       "\n",
       "    .dataframe tbody tr th {\n",
       "        vertical-align: top;\n",
       "    }\n",
       "\n",
       "    .dataframe thead th {\n",
       "        text-align: right;\n",
       "    }\n",
       "</style>\n",
       "<table border=\"1\" class=\"dataframe\">\n",
       "  <thead>\n",
       "    <tr style=\"text-align: right;\">\n",
       "      <th></th>\n",
       "      <th>Text</th>\n",
       "      <th>Language</th>\n",
       "    </tr>\n",
       "  </thead>\n",
       "  <tbody>\n",
       "    <tr>\n",
       "      <th>7814</th>\n",
       "      <td>walaupun pada mulanya berhasil menurunkan ting...</td>\n",
       "      <td>Indonesian</td>\n",
       "    </tr>\n",
       "    <tr>\n",
       "      <th>7815</th>\n",
       "      <td>namun dalam usia hari akhirnya meninggal dunia...</td>\n",
       "      <td>Indonesian</td>\n",
       "    </tr>\n",
       "    <tr>\n",
       "      <th>7816</th>\n",
       "      <td>dewan wali terlibat dalam proses legislasi den...</td>\n",
       "      <td>Indonesian</td>\n",
       "    </tr>\n",
       "    <tr>\n",
       "      <th>7817</th>\n",
       "      <td>ordo ekuestrian makam kudus yerusalem bahasa l...</td>\n",
       "      <td>Indonesian</td>\n",
       "    </tr>\n",
       "    <tr>\n",
       "      <th>7818</th>\n",
       "      <td>felidae adalah familia mamalia yang berevolusi...</td>\n",
       "      <td>Indonesian</td>\n",
       "    </tr>\n",
       "  </tbody>\n",
       "</table>\n",
       "</div>"
      ],
      "text/plain": [
       "                                                   Text    Language\n",
       "7814  walaupun pada mulanya berhasil menurunkan ting...  Indonesian\n",
       "7815  namun dalam usia hari akhirnya meninggal dunia...  Indonesian\n",
       "7816  dewan wali terlibat dalam proses legislasi den...  Indonesian\n",
       "7817  ordo ekuestrian makam kudus yerusalem bahasa l...  Indonesian\n",
       "7818  felidae adalah familia mamalia yang berevolusi...  Indonesian"
      ]
     },
     "execution_count": 21,
     "metadata": {},
     "output_type": "execute_result"
    }
   ],
   "source": [
    "df.tail()"
   ]
  },
  {
   "cell_type": "code",
   "execution_count": 22,
   "id": "9745c59d",
   "metadata": {},
   "outputs": [
    {
     "data": {
      "text/plain": [
       "English       1000\n",
       "French        1000\n",
       "Chinese       1000\n",
       "Russian       1000\n",
       "Hindi         1000\n",
       "Tamil         1000\n",
       "Indonesian    1000\n",
       "Spanish        819\n",
       "Name: Language, dtype: int64"
      ]
     },
     "execution_count": 22,
     "metadata": {},
     "output_type": "execute_result"
    }
   ],
   "source": [
    "df['Language'].value_counts()"
   ]
  },
  {
   "cell_type": "code",
   "execution_count": 23,
   "id": "c2cbd08e",
   "metadata": {},
   "outputs": [
    {
     "data": {
      "text/plain": [
       "0       nature in the broadest sense is the natural ph...\n",
       "1       nature can refer to the phenomena of the physi...\n",
       "2       the study of nature is a large if not the only...\n",
       "3       although humans are part of nature human activ...\n",
       "4       the word nature is borrowed from the old frenc...\n",
       "                              ...                        \n",
       "7814    walaupun pada mulanya berhasil menurunkan ting...\n",
       "7815    namun dalam usia hari akhirnya meninggal dunia...\n",
       "7816    dewan wali terlibat dalam proses legislasi den...\n",
       "7817    ordo ekuestrian makam kudus yerusalem bahasa l...\n",
       "7818    felidae adalah familia mamalia yang berevolusi...\n",
       "Name: Text, Length: 7819, dtype: object"
      ]
     },
     "execution_count": 23,
     "metadata": {},
     "output_type": "execute_result"
    }
   ],
   "source": [
    "text=df['Text']\n",
    "text"
   ]
  },
  {
   "cell_type": "code",
   "execution_count": 24,
   "id": "50b604d5",
   "metadata": {},
   "outputs": [],
   "source": [
    "# separating the independent and dependant features\n",
    "X,y = df.iloc[:,0],df.iloc[:,1]"
   ]
  },
  {
   "cell_type": "code",
   "execution_count": 25,
   "id": "dc31e210",
   "metadata": {},
   "outputs": [],
   "source": [
    "from sklearn.preprocessing import LabelEncoder\n",
    "le = LabelEncoder()\n",
    "y = le.fit_transform(y)"
   ]
  },
  {
   "cell_type": "code",
   "execution_count": 26,
   "id": "98033481",
   "metadata": {},
   "outputs": [],
   "source": [
    "from sklearn.feature_extraction.text import TfidfVectorizer\n",
    "cv = TfidfVectorizer()\n",
    "X = cv.fit_transform(text).toarray()"
   ]
  },
  {
   "cell_type": "code",
   "execution_count": 27,
   "id": "5c3a9260",
   "metadata": {},
   "outputs": [
    {
     "name": "stdout",
     "output_type": "stream",
     "text": [
      "(6255, 60356)\n",
      "(1564, 60356)\n",
      "(6255,)\n",
      "(1564,)\n"
     ]
    }
   ],
   "source": [
    "X_train,X_test,y_train,y_test = train_test_split(X,y,train_size=0.8,random_state=0)\n",
    "print(X_train.shape)\n",
    "print(X_test.shape)\n",
    "print(y_train.shape)\n",
    "print(y_test.shape)"
   ]
  },
  {
   "cell_type": "code",
   "execution_count": 28,
   "id": "ea297ab9",
   "metadata": {},
   "outputs": [
    {
     "data": {
      "text/plain": [
       "MultinomialNB()"
      ]
     },
     "execution_count": 28,
     "metadata": {},
     "output_type": "execute_result"
    }
   ],
   "source": [
    "from sklearn.naive_bayes import MultinomialNB\n",
    "model = MultinomialNB()\n",
    "model.fit(X_train, y_train)"
   ]
  },
  {
   "cell_type": "code",
   "execution_count": 29,
   "id": "27f6a61c",
   "metadata": {},
   "outputs": [
    {
     "data": {
      "text/plain": [
       "MultinomialNB()"
      ]
     },
     "execution_count": 29,
     "metadata": {},
     "output_type": "execute_result"
    }
   ],
   "source": [
    "model.fit(X_train,y_train)"
   ]
  },
  {
   "cell_type": "code",
   "execution_count": 30,
   "id": "7616f834",
   "metadata": {},
   "outputs": [
    {
     "data": {
      "text/plain": [
       "array([[0., 0., 0., ..., 0., 0., 0.],\n",
       "       [0., 0., 0., ..., 0., 0., 0.],\n",
       "       [0., 0., 0., ..., 0., 0., 0.],\n",
       "       ...,\n",
       "       [0., 0., 0., ..., 0., 0., 0.],\n",
       "       [0., 0., 0., ..., 0., 0., 0.],\n",
       "       [0., 0., 0., ..., 0., 0., 0.]])"
      ]
     },
     "execution_count": 30,
     "metadata": {},
     "output_type": "execute_result"
    }
   ],
   "source": [
    "X_test"
   ]
  },
  {
   "cell_type": "code",
   "execution_count": 31,
   "id": "c1b887ca",
   "metadata": {},
   "outputs": [
    {
     "data": {
      "text/plain": [
       "array([2, 4, 3, ..., 2, 7, 4])"
      ]
     },
     "execution_count": 31,
     "metadata": {},
     "output_type": "execute_result"
    }
   ],
   "source": [
    "y_pred = model.predict(X_test)\n",
    "y_pred"
   ]
  },
  {
   "cell_type": "code",
   "execution_count": 32,
   "id": "c224ad48",
   "metadata": {},
   "outputs": [],
   "source": [
    "from sklearn.metrics import accuracy_score, confusion_matrix, classification_report\n",
    "\n",
    "ac = accuracy_score(y_test, y_pred)\n",
    "cm = confusion_matrix(y_test, y_pred)\n",
    "cr = classification_report(y_test, y_pred)"
   ]
  },
  {
   "cell_type": "code",
   "execution_count": 33,
   "id": "071655dd",
   "metadata": {},
   "outputs": [
    {
     "name": "stdout",
     "output_type": "stream",
     "text": [
      "Accuracy is : 0.9533248081841432\n"
     ]
    }
   ],
   "source": [
    "print(\"Accuracy is :\",ac)"
   ]
  },
  {
   "cell_type": "code",
   "execution_count": 34,
   "id": "b0cb14f4",
   "metadata": {},
   "outputs": [
    {
     "data": {
      "image/png": "[encoded data removed]",
      "text/plain": [
       "<Figure size 1080x720 with 2 Axes>"
      ]
     },
     "metadata": {
      "needs_background": "light"
     },
     "output_type": "display_data"
    }
   ],
   "source": [
    "# visualising the confusion matrix\n",
    "plt.figure(figsize=(15,10))\n",
    "sns.heatmap(cm, annot = True)\n",
    "plt.show()"
   ]
  },
  {
   "cell_type": "code",
   "execution_count": 35,
   "id": "2f292963",
   "metadata": {},
   "outputs": [],
   "source": [
    "def predict(text):\n",
    "    x = cv.transform([text]).toarray() # converting text to bag of words model (Vector)\n",
    "    lang = model.predict(x) # predicting the language\n",
    "    lang = le.inverse_transform(lang) # finding the language corresponding the the predicted value\n",
    "    print(\"The langauge is in\",lang[0]) # printing the language"
   ]
  },
  {
   "cell_type": "code",
   "execution_count": 36,
   "id": "b418eaff",
   "metadata": {},
   "outputs": [
    {
     "name": "stdout",
     "output_type": "stream",
     "text": [
      "The langauge is in Chinese\n"
     ]
    }
   ],
   "source": [
    "#chinese\n",
    "predict(\"这次计划的失败被归咎于军方高层之间缺乏沟通\")"
   ]
  },
  {
   "cell_type": "code",
   "execution_count": 37,
   "id": "e1e9f024",
   "metadata": {},
   "outputs": [
    {
     "name": "stdout",
     "output_type": "stream",
     "text": [
      "The langauge is in English\n"
     ]
    }
   ],
   "source": [
    "#english\n",
    "predict(\"The study of nature is a large\")"
   ]
  },
  {
   "cell_type": "code",
   "execution_count": 38,
   "id": "396254b3",
   "metadata": {},
   "outputs": [
    {
     "name": "stdout",
     "output_type": "stream",
     "text": [
      "The langauge is in Spanish\n"
     ]
    }
   ],
   "source": [
    "#spanish\n",
    "predict(\"La editorial publica también varias rev\")"
   ]
  },
  {
   "cell_type": "code",
   "execution_count": 39,
   "id": "8ea40599",
   "metadata": {},
   "outputs": [
    {
     "name": "stdout",
     "output_type": "stream",
     "text": [
      "The langauge is in French\n"
     ]
    }
   ],
   "source": [
    "#french\n",
    "predict(\"Vous pouvez aider au développement\")"
   ]
  },
  {
   "cell_type": "code",
   "execution_count": 40,
   "id": "effb671a",
   "metadata": {},
   "outputs": [
    {
     "name": "stdout",
     "output_type": "stream",
     "text": [
      "The langauge is in Russian\n"
     ]
    }
   ],
   "source": [
    "#russian\n",
    "predict(\"дмитрий\")"
   ]
  },
  {
   "cell_type": "code",
   "execution_count": 41,
   "id": "5a4f3d93",
   "metadata": {},
   "outputs": [
    {
     "name": "stdout",
     "output_type": "stream",
     "text": [
      "The langauge is in Hindi\n"
     ]
    }
   ],
   "source": [
    "#hindi\n",
    "predict(\"पराग \")"
   ]
  },
  {
   "cell_type": "code",
   "execution_count": 42,
   "id": "94ccd055",
   "metadata": {},
   "outputs": [
    {
     "name": "stdout",
     "output_type": "stream",
     "text": [
      "The langauge is in Tamil\n"
     ]
    }
   ],
   "source": [
    "#tamil\n",
    "predict(\"அனாதரவற்ற\")"
   ]
  },
  {
   "cell_type": "code",
   "execution_count": 43,
   "id": "38f0d1cd",
   "metadata": {},
   "outputs": [
    {
     "name": "stdout",
     "output_type": "stream",
     "text": [
      "The langauge is in Indonesian\n"
     ]
    }
   ],
   "source": [
    "#indonesian\n",
    "predict(\"ordo ekuestrian makam kudus\")"
   ]
  }
 ],
 "metadata": {
  "kernelspec": {
   "display_name": "Python 3 (ipykernel)",
   "language": "python",
   "name": "python3"
  },
  "language_info": {
   "codemirror_mode": {
    "name": "ipython",
    "version": 3
   },
   "file_extension": ".py",
   "mimetype": "text/x-python",
   "name": "python",
   "nbconvert_exporter": "python",
   "pygments_lexer": "ipython3",
   "version": "3.8.9"
  }
 },
 "nbformat": 4,
 "nbformat_minor": 5
}
